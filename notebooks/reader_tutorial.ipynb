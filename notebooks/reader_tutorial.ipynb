{
 "cells": [
  {
   "cell_type": "markdown",
   "id": "f8e572a5",
   "metadata": {},
   "source": [
    "# Reader Classes Tutorial\n",
    "This tutorial demonstrates how to use the UH_Soundscapes Reader classes to load and display the data sets.\n",
    "\n",
    "The data sets can be found at __[Soundscapes Archive](https://www.higp.hawaii.edu/archive/isla/UH_Soundscapes/)__."
   ]
  },
  {
   "cell_type": "markdown",
   "id": "79d522ba",
   "metadata": {},
   "source": [
    "## Section 0: Prerequisites and Imports\n",
    "The following cell contains the necessary imports and constants to run this example."
   ]
  },
  {
   "cell_type": "code",
   "execution_count": 19,
   "id": "4bf8db3f",
   "metadata": {},
   "outputs": [],
   "source": [
    "import matplotlib.pyplot as plt\n",
    "import numpy as np\n",
    "import os\n",
    "import pandas as pd\n",
    "\n",
    "from uh_soundscapes import astra_reader as asr, esc50_reader as ecr, orex_reader as oxr, shared_explosions_reader as ser\n",
    "\n",
    "CURRENT_DIRECTORY = os.getcwd()\n",
    "ASTRA_TUTORIAL = \"ASTRA.pkl\"\n",
    "PATH_TO_ASTRA_TUTORIAL = os.path.join(CURRENT_DIRECTORY, ASTRA_TUTORIAL)\n",
    "ESC50_TUTORIAL_800HZ = \"ESC50_800Hz.pkl\"\n",
    "PATH_TO_ESC50_TUTORIAL_800HZ = os.path.join(CURRENT_DIRECTORY, ESC50_TUTORIAL_800HZ)\n",
    "OREX_TUTORIAL = \"OREX_UH_800Hz.pkl\"\n",
    "PATH_TO_OREX_TUTORIAL = os.path.join(CURRENT_DIRECTORY, OREX_TUTORIAL)\n",
    "SHARED_TUTORIAL = \"SHAReD.pkl\"\n",
    "PATH_TO_SHARED_TUTORIAL = os.path.join(CURRENT_DIRECTORY, SHARED_TUTORIAL)\n"
   ]
  },
  {
   "cell_type": "markdown",
   "id": "63731c36",
   "metadata": {},
   "source": [
    "Modify the values above as needed for your own use cases."
   ]
  },
  {
   "cell_type": "markdown",
   "id": "88067cac",
   "metadata": {},
   "source": [
    "## Section 1: Loading Datasets\n",
    "We'll start with an example of loading the ASTRA dataset.\n",
    "\n",
    "In order to load the ASTRA dataset using the ASTRAReader class, we need to make an instance of it.  Give the ASTRAReader constructor the full path to the ASTRA dataset file."
   ]
  },
  {
   "cell_type": "code",
   "execution_count": 20,
   "id": "cbc91e98",
   "metadata": {},
   "outputs": [],
   "source": [
    "# astra_ds = asr.ASTRAReader(PATH_TO_ASTRA_TUTORIAL)"
   ]
  },
  {
   "cell_type": "markdown",
   "id": "8d879c3f",
   "metadata": {},
   "source": [
    "Other datasets can be loaded via similar methods:"
   ]
  },
  {
   "cell_type": "code",
   "execution_count": 21,
   "id": "1c32e954",
   "metadata": {},
   "outputs": [
    {
     "ename": "TypeError",
     "evalue": "ESC50Reader.__init__() missing 1 required positional argument: 'default_filename'",
     "output_type": "error",
     "traceback": [
      "\u001b[31m---------------------------------------------------------------------------\u001b[39m",
      "\u001b[31mTypeError\u001b[39m                                 Traceback (most recent call last)",
      "\u001b[36mCell\u001b[39m\u001b[36m \u001b[39m\u001b[32mIn[21]\u001b[39m\u001b[32m, line 1\u001b[39m\n\u001b[32m----> \u001b[39m\u001b[32m1\u001b[39m esc800 = \u001b[43mecr\u001b[49m\u001b[43m.\u001b[49m\u001b[43mESC50Reader\u001b[49m\u001b[43m(\u001b[49m\u001b[43mPATH_TO_ESC50_TUTORIAL_800HZ\u001b[49m\u001b[43m)\u001b[49m\n\u001b[32m      3\u001b[39m orex_ds = oxr.OREXReader(PATH_TO_OREX_TUTORIAL)\n\u001b[32m      5\u001b[39m shared_ds = ser.SHAReDReader(PATH_TO_SHARED_TUTORIAL)\n",
      "\u001b[31mTypeError\u001b[39m: ESC50Reader.__init__() missing 1 required positional argument: 'default_filename'"
     ]
    }
   ],
   "source": [
    "esc800 = ecr.ESC50Reader(PATH_TO_ESC50_TUTORIAL_800HZ)\n",
    "\n",
    "orex_ds = oxr.OREXReader(PATH_TO_OREX_TUTORIAL)\n",
    "\n",
    "shared_ds = ser.SHAReDReader(PATH_TO_SHARED_TUTORIAL)"
   ]
  },
  {
   "cell_type": "code",
   "execution_count": null,
   "id": "0d891fb1",
   "metadata": {},
   "outputs": [],
   "source": [
    "#todo junk here\n",
    "# ar.print_metadata()\n",
    "# ar.plot_recording()\n",
    "\n",
    "# if __name__==\"__main__\":\n",
    "#     import random\n",
    "#     esc800.print_metadata()\n",
    "#     esc16k.print_metadata()\n",
    "#     index_to_plot = random.randint(0, len(esc16k.data) - 1)\n",
    "#     esc800.plot_waveforms(index_to_plot)\n",
    "#     esc16k.plot_waveforms(index_to_plot)\n",
    "#     plt.show()\n",
    "\n",
    "# orx.plot_all()\n",
    "\n",
    "#  ar.print_metadata()\n",
    "# ar.plot_data()"
   ]
  }
 ],
 "metadata": {
  "kernelspec": {
   "display_name": "python_3_12_4_venv",
   "language": "python",
   "name": "python3"
  },
  "language_info": {
   "codemirror_mode": {
    "name": "ipython",
    "version": 3
   },
   "file_extension": ".py",
   "mimetype": "text/x-python",
   "name": "python",
   "nbconvert_exporter": "python",
   "pygments_lexer": "ipython3",
   "version": "3.12.4"
  }
 },
 "nbformat": 4,
 "nbformat_minor": 5
}
